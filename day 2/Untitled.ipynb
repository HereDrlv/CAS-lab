{
 "cells": [
  {
   "cell_type": "markdown",
   "metadata": {},
   "source": [
    "SynDECA - A Tool to Generate Synthetic Datasets for Evaluation of Cluster Algorithm\n",
    "- 摘要：  \n",
    "    聚类算法有很多，而需要数据集来和评估之。本算法自动生成[有生命力的]数据集，评估聚类算法的准确性、抗噪性。  \n",
    "- 问题描述：  \n",
    "    给定-数据集大小n，维度d，范围[0 , m]，聚类个数c，噪声比例η  \n",
    "    输出-随机产生的数据集。\n",
    "- 步骤：  \n",
    "    1.确定聚类中心，包括大小边缘  \n",
    "    2.聚类和噪声大小估计  \n",
    "    3.填聚类  \n",
    "    4.撒噪声  "
   ]
  },
  {
   "cell_type": "markdown",
   "metadata": {},
   "source": [
    "# steps\n",
    "一些内部变量：\n",
    "\n",
    "$\\epsilon$ - 聚类间的最小距离比。任意两个聚类之间的距离不能小于$(1+\\epsilon)r$，where r is the radius of a cluster   \n",
    "$r_{max} , r_{min} $ - 聚类最大/最小半径  \n",
    "P.S. 噪点数量$\\in (0, \\frac{1}{1+c}*n] $ (????\n",
    "## step 1"
   ]
  },
  {
   "cell_type": "code",
   "execution_count": null,
   "metadata": {},
   "outputs": [],
   "source": [
    "r_i = generate_radius(rmin , rmax)\n",
    "miu_i = generate_center(r_i)\n",
    "for (miu_j,r_j) in []:\n",
    "    \n"
   ]
  }
 ],
 "metadata": {
  "kernelspec": {
   "display_name": "Python 3",
   "language": "python",
   "name": "python3"
  },
  "language_info": {
   "codemirror_mode": {
    "name": "ipython",
    "version": 3
   },
   "file_extension": ".py",
   "mimetype": "text/x-python",
   "name": "python",
   "nbconvert_exporter": "python",
   "pygments_lexer": "ipython3",
   "version": "3.7.0"
  },
  "toc": {
   "base_numbering": 1,
   "nav_menu": {},
   "number_sections": true,
   "sideBar": true,
   "skip_h1_title": false,
   "title_cell": "Table of Contents",
   "title_sidebar": "Contents",
   "toc_cell": false,
   "toc_position": {},
   "toc_section_display": true,
   "toc_window_display": false
  }
 },
 "nbformat": 4,
 "nbformat_minor": 2
}
