{
 "cells": [
  {
   "cell_type": "code",
   "execution_count": 1,
   "metadata": {},
   "outputs": [],
   "source": [
    "import numpy as np\n",
    "import matplotlib.pyplot as plt"
   ]
  },
  {
   "cell_type": "markdown",
   "metadata": {},
   "source": [
    "SynDECA - A Tool to Generate Synthetic Datasets for Evaluation of Cluster Algorithm\n",
    "- 摘要：  \n",
    "    聚类算法有很多，而需要数据集来和评估之。本算法自动生成[有生命力的]数据集，评估聚类算法的准确性、抗噪性。  \n",
    "- 问题描述：  \n",
    "    给定-数据集大小n，维度d，范围[0 , m]，聚类个数c，噪声比例η  \n",
    "    输出-随机产生的数据集。\n",
    "- 步骤：  \n",
    "    1.确定聚类中心，包括大小边缘  \n",
    "    2.聚类和噪声大小估计  \n",
    "    3.填聚类  \n",
    "    4.撒噪声  "
   ]
  },
  {
   "cell_type": "code",
   "execution_count": 2,
   "metadata": {},
   "outputs": [],
   "source": [
    "# Input ( as global para \n",
    "n = 10000 # total number\n",
    "d = 2 # dimension\n",
    "m = 1000 # max value in each dimension\n",
    "c = 10 # cluster number \n",
    "yita = 0.05 # noise-points/cluster-points"
   ]
  },
  {
   "cell_type": "markdown",
   "metadata": {},
   "source": [
    "# steps\n",
    "一些内部变量：\n",
    "\n",
    "$\\epsilon$ - 聚类间的最小距离比。任意两个聚类之间的距离不能小于$(1+\\epsilon)r$，where r is the radius of a cluster   \n",
    "$r_{max} , r_{min} $ - 聚类最大/最小半径  \n",
    "P.S. 噪点数量$\\in (0, \\frac{1}{1+c}*n] $ (????"
   ]
  },
  {
   "cell_type": "code",
   "execution_count": 3,
   "metadata": {},
   "outputs": [],
   "source": [
    "# Input (cont.\n",
    "epsilon = 0.5\n",
    "r_min = 100\n",
    "r_max = 300"
   ]
  },
  {
   "cell_type": "markdown",
   "metadata": {},
   "source": [
    "## step 1\n",
    "意思大概是，先随机产生中心和半径，放着。冲突就减小，直到没冲突了就安排。"
   ]
  },
  {
   "cell_type": "code",
   "execution_count": 4,
   "metadata": {
    "code_folding": [
     0
    ]
   },
   "outputs": [],
   "source": [
    "def gapIsEnough(r_i, miu_i, r_j, miu_j):\n",
    "    def distance(p1,p2):# p1 p2 are 2 points, array type.\n",
    "        return np.linalg.norm(p1-p2,2) # NOT SURE \n",
    "    d = distance(miu_i,miu_j)\n",
    "    return  (d > r_i + r_j) and (d > r_i *(1 + epsilon)) and (d > r_j *(1 + epsilon)) # NOT SURE"
   ]
  },
  {
   "cell_type": "code",
   "execution_count": 5,
   "metadata": {},
   "outputs": [
    {
     "data": {
      "text/plain": [
       "(array([261.33280622, 179.59613912, 103.02822273, 202.31398244,\n",
       "        134.36421244, 109.23500914, 101.43149745, 105.26735526,\n",
       "        102.10740261, 104.66313425]), array([[311.90220568, 493.63458512],\n",
       "        [377.29686476, 934.83244574],\n",
       "        [734.50026503, 187.83180061],\n",
       "        [727.63377685, 735.6608976 ],\n",
       "        [957.69032477, 286.1377939 ],\n",
       "        [984.87686657, 556.19883494],\n",
       "        [942.47598094, 952.65421307],\n",
       "        [708.58119404, 403.54697433],\n",
       "        [158.53948389, 123.13236102],\n",
       "        [444.61855896, 117.29461486]]))"
      ]
     },
     "execution_count": 5,
     "metadata": {},
     "output_type": "execute_result"
    }
   ],
   "source": [
    "def ClusterPlacement(r_k, miu_k): # miu_k , r_k are miu and r set, respectively\n",
    "    r_i = np.random.random() * (r_max - r_min) + r_min # in [r_min,r_max]\n",
    "    miu_i = np.random.random(d) * (m - r_i) + r_i # d-dimension array\n",
    "    if len(r_k)==0:\n",
    "        return r_i,miu_i\n",
    "    else:\n",
    "        def reduce(r_i):\n",
    "            return r_i - 0.1*r_min # NOT SURE\n",
    "        for miu_j, r_j in [(miu_k[i], r_k[i]) for i in range(len(r_k))]:\n",
    "            while not gapIsEnough(r_i, miu_i, r_j, miu_j) :\n",
    "                r_i = reduce(r_i)\n",
    "                if r_i < r_min:\n",
    "#                     print('too deep iteration wanrning test')\n",
    "#                     r_i , miu_i = ClusterPlacement(r_k=r_k , miu_k = miu_k) # begin a new random finding\n",
    "#                     break\n",
    "                    # 应该是这里迭代次数太多然后爆了\n",
    "                    return -1,-1\n",
    "        return r_i , miu_i \n",
    "     \n",
    "test_r_i ,test_miu_i = ClusterPlacement(np.array([]),np.array([]))\n",
    "TEST_R = np.array([])\n",
    "TEST_Miu = np.array([])\n",
    "TEST_COUNTER = 0\n",
    "for i in range(c):\n",
    "    while 1:\n",
    "        TEST_r_new,TEST_miu_new = ClusterPlacement( r_k = TEST_R, miu_k =TEST_Miu)\n",
    "        if TEST_r_new != -1:\n",
    "            break\n",
    "    TEST_R = np.append(TEST_R , TEST_r_new)\n",
    "    TEST_Miu = np.append(TEST_Miu, TEST_miu_new)\n",
    "    TEST_Miu = TEST_Miu.reshape(int(len(TEST_Miu)/d),d)\n",
    "    \n",
    "    TEST_COUNTER+=1\n",
    "    if TEST_COUNTER==c:\n",
    "        break\n",
    "\n",
    "TEST_R,TEST_Miu\n",
    "# 目测爆炸概率40%"
   ]
  },
  {
   "cell_type": "markdown",
   "metadata": {},
   "source": [
    "## step 2\n",
    "n Number  \n",
    "miu_j Center  \n",
    "r_j Shape  \n",
    "Xj   \n",
    "shape = [-1,0,1,2] # Irregular, Circle, Square, Ellipse, Rectangle,  \n"
   ]
  },
  {
   "cell_type": "code",
   "execution_count": 6,
   "metadata": {
    "code_folding": [
     0
    ]
   },
   "outputs": [
    {
     "data": {
      "text/plain": [
       "array([674.54565308, 388.38981228])"
      ]
     },
     "execution_count": 6,
     "metadata": {},
     "output_type": "execute_result"
    }
   ],
   "source": [
    "def generate_point(miu_i, r_i):\n",
    "    return ( 2*np.random.random(d) -1 )* r_i + miu_i \n",
    "generate_point(miu_i=test_miu_i,r_i=test_r_i)"
   ]
  },
  {
   "cell_type": "code",
   "execution_count": 7,
   "metadata": {
    "code_folding": [
     0
    ]
   },
   "outputs": [],
   "source": [
    "def sprinkle_point(p, eps, min_pts): # sprinkle surrounding the point p\n",
    "    # reverse DB-SCAN\n",
    "    points = np.array([])\n",
    "    for i in range(min_pts):\n",
    "        # NOT SURE: \"around\" here means \"within the bounding box\". \n",
    "        points = np.append(points,generate_point(p, eps)) # note that np.array + array means matrix plus\n",
    "    return points.reshape(min_pts,2)\n",
    "# sprinkle_point(p=test_miu_i, eps=0.01, min_pts=10)"
   ]
  },
  {
   "cell_type": "code",
   "execution_count": 8,
   "metadata": {
    "code_folding": [
     0
    ]
   },
   "outputs": [
    {
     "data": {
      "text/plain": [
       "array([810.09530425, 363.53967188])"
      ]
     },
     "execution_count": 8,
     "metadata": {},
     "output_type": "execute_result"
    }
   ],
   "source": [
    "def get_a_point(p, eps, eps_):\n",
    "    # randomly generate a point with distance of q_, where eps < q_ < eps + eps_ \n",
    "    while True:\n",
    "        p_ = generate_point(miu_i=p, r_i=eps+eps_)\n",
    "        if np.linalg.norm(p_-p,2) > eps and np.linalg.norm(p_-p,2) < eps+eps_ :\n",
    "            break\n",
    "    return p_\n",
    "get_a_point(test_miu_i, eps=0.001, eps_=0.002)"
   ]
  },
  {
   "cell_type": "code",
   "execution_count": 9,
   "metadata": {
    "code_folding": [
     0
    ]
   },
   "outputs": [],
   "source": [
    "def is_within_cluster_area(shape, point, miu_i, r_i, rad_i):\n",
    "    if shape == 0: # Rectangle. Rad_i = half length in every demension \n",
    "        return (abs(point - miu_i)/rad_i < 1 ).all() \n",
    "    if shape == 1: # Ellipse. Rad_i = half length in every demension\n",
    "        return sum((point-miu_i)**2/rad_i)<1\n",
    "def ClusterPointsGeneration(n_j, r_j, miu_j, shape, rad_i, alpha): # generate n_j points surrounding the cluster center miu_j\n",
    "    points=np.array([])\n",
    "    if shape == -1 : #irregular\n",
    "        eps=0.02*r_j\n",
    "        eps_=0.05*r_j\n",
    "        # initial point p\n",
    "        p = generate_point(r_i=r_j, miu_i=miu_j )\n",
    "        min_pts = int(alpha * n_j)\n",
    "        points = sprinkle_point(p=p, eps=eps, min_pts=min_pts)\n",
    "        # iteration p_\n",
    "        debuggerCounter=0\n",
    "        while len(points) < n_j:\n",
    "            p_ = get_a_point(p,eps,eps_)\n",
    "            points = np.vstack([points, sprinkle_point(p=p_, eps=eps_, min_pts=min_pts)])\n",
    "            p=p_\n",
    "            eps = eps_ #NOT SURE\n",
    "    else:\n",
    "        while len(points) < n_j:\n",
    "            p = generate_point(r_i=r_j, miu_i=miu_j )\n",
    "            if is_within_cluster_area(shape=shape, point=p, miu_i=miu_j, r_i=r_j, rad_i=rad_i):\n",
    "                if len(points)==0:\n",
    "                    points = p\n",
    "                else:\n",
    "                    points = np.vstack([p,points])\n",
    "    return points\n",
    "# Test\n",
    "# points = ClusterPointsGeneration(n_j=100, r_j=test_r_i, miu_j=test_miu_i, shape=-1,rad_i=[150,260], alpha=0.03)\n",
    "points = ClusterPointsGeneration(n_j=100, r_j=test_r_i, miu_j=test_miu_i, shape=0,rad_i=[150,260], alpha=0.03)\n",
    "# points = ClusterPointsGeneration(n_j=100, r_j=test_r_i, miu_j=test_miu_i, shape=1,rad_i=[150,260], alpha=0.03)\n"
   ]
  },
  {
   "cell_type": "code",
   "execution_count": 10,
   "metadata": {},
   "outputs": [
    {
     "data": {
      "text/plain": [
       "<matplotlib.collections.PathCollection at 0x1ae135982e8>"
      ]
     },
     "execution_count": 10,
     "metadata": {},
     "output_type": "execute_result"
    },
    {
     "data": {
      "image/png": "[encoded data removed]",
      "text/plain": [
       "<Figure size 432x288 with 1 Axes>"
      ]
     },
     "metadata": {
      "needs_background": "light"
     },
     "output_type": "display_data"
    }
   ],
   "source": [
    "plt.scatter(test_miu_i[0],test_miu_i[1],c='r')\n",
    "plt.scatter([i[0] for i in points],[i[1] for i in points])"
   ]
  },
  {
   "cell_type": "markdown",
   "metadata": {},
   "source": [
    "## step 3\n",
    "不在任何一个聚类内\n",
    "\n",
    "给定：\n",
    "yita ，噪点比  \n",
    "n 总数  \n",
    "(miu_k, f_k) miu_k - 聚类中心。f_k 包括半径r_k, shape_k, rad_ik, eps_k **这意味着之前的这些信息都要留下来**  \n",
    "m 范围  \n"
   ]
  },
  {
   "cell_type": "code",
   "execution_count": 11,
   "metadata": {
    "code_folding": []
   },
   "outputs": [
    {
     "ename": "IndentationError",
     "evalue": "expected an indented block (<ipython-input-11-b320b8308c6c>, line 12)",
     "output_type": "error",
     "traceback": [
      "\u001b[1;36m  File \u001b[1;32m\"<ipython-input-11-b320b8308c6c>\"\u001b[1;36m, line \u001b[1;32m12\u001b[0m\n\u001b[1;33m    return noise_points\u001b[0m\n\u001b[1;37m    ^\u001b[0m\n\u001b[1;31mIndentationError\u001b[0m\u001b[1;31m:\u001b[0m expected an indented block\n"
     ]
    }
   ],
   "source": [
    "def NoisePointsGeneration(yita, n, miu_k, r_k, shape_k, radi_k, eps_k, m):\n",
    "    noise_points = np.array([])\n",
    "    while len(noise_points)< n*yita:\n",
    "        point = np.random.random(d) * m\n",
    "        if [ point - miu_k[i] > r_k[i] ].all(): # out of bounding\n",
    "            if len(points)==0:\n",
    "                noise_points = point \n",
    "            else:\n",
    "                noise_points = np.vstack([point,noise_points])\n",
    "        else:\n",
    "            \n",
    "    return noise_points\n"
   ]
  },
  {
   "cell_type": "markdown",
   "metadata": {},
   "source": [
    "## 总\n",
    "并把参数全部写一遍"
   ]
  },
  {
   "cell_type": "code",
   "execution_count": 12,
   "metadata": {},
   "outputs": [],
   "source": [
    "n = 1000 # total number\n",
    "d = 2 # dimension\n",
    "m = 1000 # max value in each dimension\n",
    "c = 10 # cluster number \n",
    "yita = 0.05 # noise-points/cluster-points\n",
    "\n",
    "epsilon = 1\n",
    "r_min = 100\n",
    "r_max = 500"
   ]
  },
  {
   "cell_type": "code",
   "execution_count": 14,
   "metadata": {},
   "outputs": [
    {
     "ename": "ValueError",
     "evalue": "cannot reshape array of size 3 into shape (1,2)",
     "output_type": "error",
     "traceback": [
      "\u001b[1;31m---------------------------------------------------------------------------\u001b[0m",
      "\u001b[1;31mValueError\u001b[0m                                Traceback (most recent call last)",
      "\u001b[1;32m<ipython-input-14-f6b2eebe40b8>\u001b[0m in \u001b[0;36m<module>\u001b[1;34m()\u001b[0m\n\u001b[0;32m      7\u001b[0m     \u001b[0mr\u001b[0m \u001b[1;33m=\u001b[0m \u001b[0mnp\u001b[0m\u001b[1;33m.\u001b[0m\u001b[0mappend\u001b[0m\u001b[1;33m(\u001b[0m\u001b[0mr\u001b[0m\u001b[1;33m,\u001b[0m\u001b[0mr_new\u001b[0m\u001b[1;33m)\u001b[0m\u001b[1;33m\u001b[0m\u001b[0m\n\u001b[0;32m      8\u001b[0m     \u001b[0mmiu\u001b[0m \u001b[1;33m=\u001b[0m \u001b[0mnp\u001b[0m\u001b[1;33m.\u001b[0m\u001b[0mappend\u001b[0m\u001b[1;33m(\u001b[0m\u001b[0mmiu\u001b[0m\u001b[1;33m,\u001b[0m\u001b[0mmiu_new\u001b[0m\u001b[1;33m)\u001b[0m\u001b[1;33m\u001b[0m\u001b[0m\n\u001b[1;32m----> 9\u001b[1;33m     \u001b[0mmiu\u001b[0m \u001b[1;33m=\u001b[0m \u001b[0mmiu\u001b[0m\u001b[1;33m.\u001b[0m\u001b[0mreshape\u001b[0m\u001b[1;33m(\u001b[0m\u001b[0mint\u001b[0m\u001b[1;33m(\u001b[0m\u001b[0mlen\u001b[0m\u001b[1;33m(\u001b[0m\u001b[0mmiu\u001b[0m\u001b[1;33m)\u001b[0m\u001b[1;33m/\u001b[0m\u001b[0md\u001b[0m\u001b[1;33m)\u001b[0m\u001b[1;33m,\u001b[0m\u001b[0md\u001b[0m\u001b[1;33m)\u001b[0m\u001b[1;33m\u001b[0m\u001b[0m\n\u001b[0m\u001b[0;32m     10\u001b[0m \u001b[1;33m\u001b[0m\u001b[0m\n\u001b[0;32m     11\u001b[0m \u001b[1;33m(\u001b[0m\u001b[0mr\u001b[0m\u001b[1;33m,\u001b[0m\u001b[0mmiu\u001b[0m\u001b[1;33m)\u001b[0m\u001b[1;33m\u001b[0m\u001b[0m\n",
      "\u001b[1;31mValueError\u001b[0m: cannot reshape array of size 3 into shape (1,2)"
     ]
    }
   ],
   "source": [
    "# step1\n",
    "r = np.array([])\n",
    "miu = np.array([])\n",
    "\n",
    "for i in range(c):\n",
    "    r_new,miu_new = ClusterPlacement(r_k = r, miu_k = miu)\n",
    "    r = np.append(r,r_new)\n",
    "    miu = np.append(miu,miu_new)\n",
    "    miu = miu.reshape(int(len(miu)/d),d)\n",
    "\n",
    "(r,miu)\n",
    "# 目测爆炸概率50%"
   ]
  },
  {
   "cell_type": "code",
   "execution_count": null,
   "metadata": {},
   "outputs": [],
   "source": [
    "# step2\n",
    "n_j=n/c # equally divided\n",
    "rad = np.array([ np.random.random(d)*r[i] for i in range(c)])\n",
    "alpha = np.array([0.03 for i in range(n)])\n",
    "shape = np.array([1 for i in range(n)])\n",
    "points = ClusterPointsGeneration(n_j=n_j, r_j=r[0], miu_j=miu[0], shape=1,rad_i=rad[0], alpha=0.03)"
   ]
  },
  {
   "cell_type": "code",
   "execution_count": null,
   "metadata": {},
   "outputs": [],
   "source": [
    "for i in range(1,c):\n",
    "    points = np.vstack([\n",
    "        points , ClusterPointsGeneration(n_j=n_j, r_j=r[i], miu_j=miu[i], shape=shape[i],rad_i=rad[i], alpha=0.03)\n",
    "   ])"
   ]
  },
  {
   "cell_type": "code",
   "execution_count": null,
   "metadata": {},
   "outputs": [],
   "source": [
    "points"
   ]
  },
  {
   "cell_type": "code",
   "execution_count": null,
   "metadata": {},
   "outputs": [],
   "source": [
    "plt.figure(figsize=(20,20))\n",
    "\n",
    "for i in miu:\n",
    "    plt.scatter(i[0],i[1],c='r')\n",
    "plt.scatter([i[0] for i in points],[i[1] for i in points],s=1)"
   ]
  },
  {
   "cell_type": "code",
   "execution_count": null,
   "metadata": {},
   "outputs": [],
   "source": []
  }
 ],
 "metadata": {
  "kernelspec": {
   "display_name": "Python 3",
   "language": "python",
   "name": "python3"
  },
  "language_info": {
   "codemirror_mode": {
    "name": "ipython",
    "version": 3
   },
   "file_extension": ".py",
   "mimetype": "text/x-python",
   "name": "python",
   "nbconvert_exporter": "python",
   "pygments_lexer": "ipython3",
   "version": "3.7.0"
  },
  "toc": {
   "base_numbering": 1,
   "nav_menu": {},
   "number_sections": true,
   "sideBar": true,
   "skip_h1_title": false,
   "title_cell": "Table of Contents",
   "title_sidebar": "Contents",
   "toc_cell": false,
   "toc_position": {},
   "toc_section_display": true,
   "toc_window_display": true
  }
 },
 "nbformat": 4,
 "nbformat_minor": 2
}
