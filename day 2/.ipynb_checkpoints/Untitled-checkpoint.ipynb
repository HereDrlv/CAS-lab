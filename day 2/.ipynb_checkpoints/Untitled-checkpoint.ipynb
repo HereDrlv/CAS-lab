{
 "cells": [
  {
   "cell_type": "code",
   "execution_count": 2,
   "metadata": {
    "scrolled": true
   },
   "outputs": [],
   "source": [
    "import numpy as np\n",
    "import matplotlib.pyplot as plt\n",
    "import matplotlib.patches as mpatches"
   ]
  },
  {
   "cell_type": "markdown",
   "metadata": {},
   "source": [
    "SynDECA - A Tool to Generate Synthetic Datasets for Evaluation of Cluster Algorithm\n",
    "- 摘要：  \n",
    "    聚类算法有很多，而需要数据集来和评估之。本算法自动生成[有生命力的]数据集，评估聚类算法的准确性、抗噪性。  \n",
    "- 问题描述：  \n",
    "    给定-数据集大小n，维度d，范围[0 , m]，聚类个数c，噪声比例η  \n",
    "    输出-随机产生的数据集。\n",
    "- 步骤：  \n",
    "    1.确定聚类中心，包括大小边缘  \n",
    "    2.聚类和噪声大小估计  \n",
    "    3.填聚类  \n",
    "    4.撒噪声  "
   ]
  },
  {
   "cell_type": "code",
   "execution_count": 3,
   "metadata": {},
   "outputs": [],
   "source": [
    "# Input ( as global para \n",
    "n = 10000 # total number\n",
    "d = 2 # dimension\n",
    "m = 1000 # max value in each dimension\n",
    "c = 10 # cluster number \n",
    "yita = 0.05 # noise-points/cluster-points"
   ]
  },
  {
   "cell_type": "markdown",
   "metadata": {},
   "source": [
    "# steps\n",
    "一些内部变量：\n",
    "\n",
    "$\\epsilon$ - 聚类间的最小距离比。任意两个聚类之间的距离不能小于$(1+\\epsilon)r$，where r is the radius of a cluster   \n",
    "$r_{max} , r_{min} $ - 聚类最大/最小半径  \n",
    "P.S. 噪点数量$\\in (0, \\frac{1}{1+c}*n] $ (????"
   ]
  },
  {
   "cell_type": "code",
   "execution_count": 4,
   "metadata": {},
   "outputs": [],
   "source": [
    "# Input (cont.\n",
    "epsilon = 0.5\n",
    "r_min = 50\n",
    "r_max = 100"
   ]
  },
  {
   "cell_type": "markdown",
   "metadata": {},
   "source": [
    "## step 1 定聚类位置及半径\n",
    "意思大概是，先随机产生中心和半径，放着。冲突就减小，直到没冲突了就安排。\n",
    "### gapIsEnough"
   ]
  },
  {
   "cell_type": "code",
   "execution_count": 5,
   "metadata": {
    "code_folding": []
   },
   "outputs": [],
   "source": [
    "def gapIsEnough(r_i, miu_i, r_j, miu_j):\n",
    "    def distance(p1,p2):# p1 p2 are 2 points, array type.\n",
    "        return max(abs(p1-p2))\n",
    "\n",
    "    d = distance(miu_i,miu_j)\n",
    "    return  (d > r_i + r_j) and (d > r_i *(1 + epsilon)) and (d > r_j *(1 + epsilon)) # NOT SURE"
   ]
  },
  {
   "cell_type": "markdown",
   "metadata": {},
   "source": [
    "### ClusterPlacement\n",
    "（事实上复杂度很高）"
   ]
  },
  {
   "cell_type": "code",
   "execution_count": 6,
   "metadata": {},
   "outputs": [],
   "source": [
    "def reduce(r_i):\n",
    "    return r_i - 0.1*r_min # NOT SURE\n",
    "    # 太快直接低于r_min 会重来，太慢收敛慢\n",
    "def ClusterPlacement(r_k, miu_k): # miu_k , r_k are miu and r set, respectively\n",
    "    r_i = np.random.random() * (r_max - r_min) + r_min # in [r_min,r_max]\n",
    "    miu_i = np.random.random(d) * (m - 2 * r_i) + r_i # d-dimension array\n",
    "#     print(r_i,miu_i)\n",
    "    if len(r_k)==0:\n",
    "        return r_i,miu_i\n",
    "    else:\n",
    "        for miu_j, r_j in [(miu_k[i], r_k[i]) for i in range(len(r_k))]: # 迭代没错\n",
    "            while not gapIsEnough(r_i, miu_i, r_j, miu_j) :\n",
    "                r_i = reduce(r_i)\n",
    "                if r_i < r_min:\n",
    "                    return -1,-1\n",
    "        return r_i , miu_i "
   ]
  },
  {
   "cell_type": "code",
   "execution_count": 7,
   "metadata": {},
   "outputs": [],
   "source": [
    "# TEST 产生一个聚类中心和半径\n",
    "# TEST_r_i ,TEST_miu_i = ClusterPlacement(np.array([]),np.array([]))\n",
    "# fig=plt.figure()\n",
    "# ax = fig.add_subplot(111, aspect='auto')\n",
    "# plt.scatter(TEST_miu_i[0],TEST_miu_i[1],c='r')\n",
    "# plt.axis([0,m,0,m])\n",
    "# ax.add_patch(mpatches.Rectangle(TEST_miu_i-TEST_r_i, TEST_r_i*2,TEST_r_i*2, color = 'b', alpha=0.5))"
   ]
  },
  {
   "cell_type": "code",
   "execution_count": 8,
   "metadata": {
    "scrolled": false
   },
   "outputs": [
    {
     "data": {
      "image/png": "[encoded data removed]",
      "text/plain": [
       "<Figure size 432x288 with 1 Axes>"
      ]
     },
     "metadata": {
      "needs_background": "light"
     },
     "output_type": "display_data"
    }
   ],
   "source": [
    "# TEST 产生所有聚类中心及半径\n",
    "TEST_r = np.array([])\n",
    "TEST_miu = np.array([])\n",
    "for i in range(c):\n",
    "    while 1:\n",
    "        TEST_r_new , TEST_miu_new = ClusterPlacement(r_k = TEST_r, miu_k = TEST_miu)\n",
    "        if TEST_r_new != -1:\n",
    "            break\n",
    "    TEST_r = np.append(TEST_r , TEST_r_new)\n",
    "    TEST_miu = np.append(TEST_miu , TEST_miu_new)\n",
    "    TEST_miu = TEST_miu.reshape(int(len(TEST_miu)/d),d)\n",
    "\n",
    "# 画图\n",
    "fig=plt.figure()\n",
    "ax = fig.add_subplot(111, aspect='auto')\n",
    "plt.scatter([i[0] for i in TEST_miu],[i[1] for i in TEST_miu],c='r')\n",
    "plt.axis([0,m,0,m])\n",
    "for i in range(c):\n",
    "    ax.add_patch(mpatches.Rectangle(TEST_miu[i]-TEST_r[i], TEST_r[i]*2,TEST_r[i]*2, color = 'b', alpha=0.5))    "
   ]
  },
  {
   "cell_type": "markdown",
   "metadata": {},
   "source": [
    "## step 2 撒点\n",
    "n Number  \n",
    "miu_j Center  \n",
    "r_j Shape  \n",
    "Xj   \n",
    "shape = [-1,0,1,2] # Irregular, Circle, Square, Ellipse, Rectangle,  \n",
    "\n",
    "### generate_point"
   ]
  },
  {
   "cell_type": "code",
   "execution_count": 9,
   "metadata": {
    "code_folding": []
   },
   "outputs": [],
   "source": [
    "def generate_point(r_i,miu_i):\n",
    "    return ( 2*np.random.random(d) -1 )* r_i + miu_i "
   ]
  },
  {
   "cell_type": "code",
   "execution_count": 10,
   "metadata": {
    "code_folding": []
   },
   "outputs": [
    {
     "data": {
      "text/plain": [
       "array([378.75391254, 352.42791667])"
      ]
     },
     "execution_count": 10,
     "metadata": {},
     "output_type": "execute_result"
    }
   ],
   "source": [
    "# TEST\n",
    "generate_point(*ClusterPlacement(np.array([]),np.array([])))"
   ]
  },
  {
   "cell_type": "markdown",
   "metadata": {},
   "source": [
    "### sprinkle_point"
   ]
  },
  {
   "cell_type": "code",
   "execution_count": 11,
   "metadata": {
    "code_folding": []
   },
   "outputs": [],
   "source": [
    "def sprinkle_point(p, eps, min_pts): # sprinkle surrounding the point p\n",
    "    # reverse DB-SCAN\n",
    "    points = np.array([])\n",
    "    for i in range(min_pts):\n",
    "        # NOT SURE: \"around\" here means \"within the bounding box\". \n",
    "        points = np.append(points,generate_point(miu_i=p,r_i=eps)) # note that np.array + array means matrix plus\n",
    "    return points.reshape(min_pts,2)"
   ]
  },
  {
   "cell_type": "code",
   "execution_count": 12,
   "metadata": {
    "code_folding": [
     0
    ]
   },
   "outputs": [
    {
     "data": {
      "text/plain": [
       "<matplotlib.patches.Rectangle at 0x1bbe8100ac8>"
      ]
     },
     "execution_count": 12,
     "metadata": {},
     "output_type": "execute_result"
    },
    {
     "data": {
      "image/png": "[encoded data removed]",
      "text/plain": [
       "<Figure size 432x288 with 1 Axes>"
      ]
     },
     "metadata": {
      "needs_background": "light"
     },
     "output_type": "display_data"
    }
   ],
   "source": [
    "# TEST 在一个点周围撒随机点\n",
    "TEST_one_r,TEST_one_point = ClusterPlacement(np.array([]),np.array([]))\n",
    "TEST_sprinlke_point = sprinkle_point(p=TEST_one_point, eps=0.02*TEST_one_r, min_pts=10)\n",
    "\n",
    "# 画图\n",
    "fig=plt.figure()\n",
    "ax = fig.add_subplot(111, aspect='auto')\n",
    "plt.scatter(*TEST_one_point,c='g')\n",
    "plt.scatter([i[0] for i in TEST_sprinlke_point],[i[1] for i in TEST_sprinlke_point],c='r')\n",
    "ax.add_patch(mpatches.Rectangle(TEST_one_point-TEST_one_r, TEST_one_r*2,TEST_one_r*2, color = 'b', alpha=0.2))\n"
   ]
  },
  {
   "cell_type": "markdown",
   "metadata": {},
   "source": [
    "### get_a_point"
   ]
  },
  {
   "cell_type": "code",
   "execution_count": 13,
   "metadata": {
    "code_folding": []
   },
   "outputs": [],
   "source": [
    "def get_a_point( eps,p, eps_):\n",
    "    # randomly generate a point with distance of q_, where eps < q_ < eps + eps_ \n",
    "    while True:\n",
    "        p_ = generate_point(miu_i=p, r_i=eps+eps_)\n",
    "        if np.linalg.norm(p_-p,2) > eps and np.linalg.norm(p_-p,2) < eps+eps_ :\n",
    "            break\n",
    "    return p_"
   ]
  },
  {
   "cell_type": "code",
   "execution_count": 14,
   "metadata": {
    "code_folding": [
     0
    ]
   },
   "outputs": [
    {
     "data": {
      "text/plain": [
       "array([726.65135047, 672.96961761])"
      ]
     },
     "execution_count": 14,
     "metadata": {},
     "output_type": "execute_result"
    }
   ],
   "source": [
    "# TEST\n",
    "get_a_point(*ClusterPlacement(np.array([]),np.array([])), eps_=0.002)"
   ]
  },
  {
   "cell_type": "markdown",
   "metadata": {},
   "source": [
    "### is_within_cluster_area"
   ]
  },
  {
   "cell_type": "code",
   "execution_count": 20,
   "metadata": {
    "code_folding": []
   },
   "outputs": [],
   "source": [
    "def is_within_cluster_area(shape, point, miu_i, r_i, rad_i):\n",
    "    if shape == -1: # irregular\n",
    "        return False # NOT SURE 随便撒\n",
    "    if shape == 0: # Rectangle. Rad_i = half length in every demension \n",
    "        return (abs(point - miu_i)/rad_i < 1 ).all() \n",
    "    if shape == 1: # Ellipse. Rad_i = half length in every demension\n",
    "        return sum((point-miu_i)**2/rad_i)<1"
   ]
  },
  {
   "cell_type": "markdown",
   "metadata": {},
   "source": [
    "### ClusterPointsGeneration"
   ]
  },
  {
   "cell_type": "code",
   "execution_count": 16,
   "metadata": {
    "code_folding": []
   },
   "outputs": [],
   "source": [
    "def ClusterPointsGeneration(n_j, r_j, miu_j, shape, rad_i, alpha): # generate n_j points surrounding the cluster center miu_j\n",
    "    points=np.array([])\n",
    "    if shape == -1 : #irregular\n",
    "        eps=0.02*r_j\n",
    "        eps_=0.05*r_j\n",
    "        # initial point p\n",
    "        # p = generate_point(r_i=r_j, miu_i=miu_j )\n",
    "        p = miu_j # 直接用聚类中心做初始点可以更集中一些？\n",
    "        min_pts = int(alpha * n_j)\n",
    "        points = sprinkle_point(p=p, eps=eps, min_pts=min_pts)\n",
    "        # iteration p_\n",
    "        debuggerCounter=0\n",
    "        while len(points) < n_j:\n",
    "            p_ = get_a_point(p=p,eps=eps,eps_=eps_)\n",
    "            points = np.vstack([points, sprinkle_point(p=p_, eps=eps_, min_pts=min_pts)])\n",
    "            p=p_\n",
    "            eps = eps_ #NOT SURE\n",
    "    else:\n",
    "        while len(points) < n_j:\n",
    "            p = generate_point(r_i=r_j, miu_i=miu_j )\n",
    "            if is_within_cluster_area(shape=shape, point=p, miu_i=miu_j, r_i=r_j, rad_i=rad_i):\n",
    "                if len(points)==0:\n",
    "                    points = p\n",
    "                else:\n",
    "                    points = np.vstack([p,points])\n",
    "    return points"
   ]
  },
  {
   "cell_type": "code",
   "execution_count": 17,
   "metadata": {
    "code_folding": [
     0
    ]
   },
   "outputs": [
    {
     "data": {
      "text/plain": [
       "<matplotlib.patches.Rectangle at 0x1bbe8075438>"
      ]
     },
     "execution_count": 17,
     "metadata": {},
     "output_type": "execute_result"
    },
    {
     "data": {
      "image/png": "[encoded data removed]",
      "text/plain": [
       "<Figure size 432x288 with 1 Axes>"
      ]
     },
     "metadata": {
      "needs_background": "light"
     },
     "output_type": "display_data"
    }
   ],
   "source": [
    "# TEST 为一个聚类撒点\n",
    "TEST_cluster_r,TEST_cluster_center = ClusterPlacement(np.array([]),np.array([]))\n",
    "points = ClusterPointsGeneration(\n",
    "    n_j=100, \n",
    "    r_j=TEST_cluster_r, miu_j=TEST_cluster_center,\n",
    "    shape=-1,\n",
    "    rad_i=[150,260],\n",
    "    alpha=0.03\n",
    ")\n",
    "\n",
    "# 画图\n",
    "fig=plt.figure()\n",
    "ax = fig.add_subplot(111, aspect='auto')\n",
    "plt.axis([0,m,0,m])\n",
    "plt.scatter(*TEST_cluster_center,c='g')\n",
    "plt.scatter([i[0] for i in points],[i[1] for i in points],c='r')\n",
    "ax.add_patch(mpatches.Rectangle(TEST_cluster_center - TEST_cluster_r, TEST_cluster_r*2,TEST_cluster_r*2, color = 'b', alpha=0.2))\n"
   ]
  },
  {
   "cell_type": "markdown",
   "metadata": {},
   "source": [
    "## step 3\n",
    "不在任何一个聚类内\n",
    "\n",
    "给定：\n",
    "yita ，噪点比  \n",
    "n 总数  \n",
    "(miu_k, f_k) miu_k - 聚类中心。f_k 包括半径r_k, shape_k, rad_ik, eps_k \n",
    "m 范围  \n"
   ]
  },
  {
   "cell_type": "code",
   "execution_count": 40,
   "metadata": {
    "code_folding": []
   },
   "outputs": [],
   "source": [
    "def make_a_noise_point(miu_k, r_k, shape_k, radi_k, eps_k, m):\n",
    "    num = len(miu_k) #聚类个数\n",
    "    point = np.random.random(d) * m # 在整个区域内 make a random point \n",
    "    # 先判断是否在任何矩形半径之外\n",
    "    for i in range(num):\n",
    "        if np.array([ abs(point - miu_k[i]) > r_k[i] ]).all(): # 不在任何一个矩形半径内\n",
    "            continue\n",
    "        if i == num-1: # 全部通过\n",
    "            return point            \n",
    "    # check if out of cluster\n",
    "    for i in range(num): \n",
    "        if is_within_cluster_area(shape=shape_k[i] , miu_i=miu_k[i] , point=point , r_i=r_k[i],rad_i=radi_k[i]):\n",
    "            return make_a_noise_point(miu_k, r_k, shape_k, radi_k, eps_k, m) # 一旦在某个内，重新找\n",
    "    return point"
   ]
  },
  {
   "cell_type": "code",
   "execution_count": 59,
   "metadata": {},
   "outputs": [
    {
     "data": {
      "image/png": "[encoded data removed]",
      "text/plain": [
       "<Figure size 432x288 with 1 Axes>"
      ]
     },
     "metadata": {
      "needs_background": "light"
     },
     "output_type": "display_data"
    }
   ],
   "source": [
    "# TEST 产生一个不在任意聚类内的噪点\n",
    "    # 产生所有的聚类，以及其属性，包括shape rad eps\n",
    "TEST_r = np.array([])\n",
    "TEST_miu = np.array([])\n",
    "TEST_shape = np.array([])\n",
    "TEST_rad = np.array([])\n",
    "TEST_eps = np.array([])\n",
    "for i in range(c):\n",
    "    while 1:\n",
    "        TEST_r_new , TEST_miu_new = ClusterPlacement(r_k = TEST_r, miu_k = TEST_miu)\n",
    "        if TEST_r_new != -1:\n",
    "            break\n",
    "    TEST_r = np.append(TEST_r , TEST_r_new)\n",
    "    TEST_miu = np.append(TEST_miu , TEST_miu_new)\n",
    "    TEST_miu = TEST_miu.reshape(int(len(TEST_miu)/d),d)\n",
    "    TEST_shape = np.append(TEST_shape, np.random.randint(-1,2))\n",
    "    if len(TEST_rad)==1:\n",
    "        TEST_rad = np.random.random(d) * TEST_r_new\n",
    "    else: TEST_rad = np.append(TEST_rad, np.random.random(d) * TEST_r_new)\n",
    "    TEST_eps = 0.01 * TEST_r_new\n",
    "    # 为其中一个聚类产撒点\n",
    "TEST_clusterpoints = ClusterPointsGeneration(\n",
    "    n_j=100, \n",
    "    r_j=TEST_r[0], miu_j=TEST_miu[0],\n",
    "    shape=TEST_shape[0],\n",
    "    rad_i=TEST_rad[0],\n",
    "    alpha=0.03\n",
    ")\n",
    "\n",
    "    # 加噪点——不在任何一个聚类内\n",
    "noisepoint = make_a_noise_point(miu_k=TEST_miu, r_k=TEST_r, eps_k=TEST_eps, m=m, radi_k=TEST_rad, shape_k=TEST_shape)\n",
    "\n",
    "# 画图\n",
    "fig=plt.figure()\n",
    "ax = fig.add_subplot(111, aspect='auto')\n",
    "plt.axis([0,m,0,m])\n",
    "\n",
    "plt.scatter([i[0] for i in TEST_miu],[i[1] for i in TEST_miu],c='r')\n",
    "plt.scatter([i[0] for i in TEST_clusterpoints],[i[1] for i in TEST_clusterpoints],c='r')\n",
    "plt.scatter(noisepoint[0], noisepoint[1] ,marker='x')\n",
    "for i in range(c):\n",
    "    ax.add_patch(mpatches.Rectangle(TEST_miu[i]-TEST_r[i], TEST_r[i]*2,TEST_r[i]*2, color = 'b', alpha=0.5))    \n"
   ]
  },
  {
   "cell_type": "code",
   "execution_count": 57,
   "metadata": {
    "code_folding": []
   },
   "outputs": [],
   "source": [
    "def NoisePointsGeneration(yita, n, miu_k, r_k, shape_k, radi_k, eps_k, m):\n",
    "    noise_points = np.array([])\n",
    "    while len(noise_points)< n*yita:\n",
    "        new_noise_point = make_a_noise_point(miu_k=miu_k, r_k=r_k, shape_k=shape_k, radi_k=radi_k, eps_k=eps_k, m=m)\n",
    "        noise_points = np.append(noise_points, new_noise_point)\n",
    "    noise_points = noise_points.reshape(int(len(noise_points)/d),d)\n",
    "#     print(noise_points)\n",
    "    return noise_points"
   ]
  },
  {
   "cell_type": "code",
   "execution_count": 71,
   "metadata": {
    "scrolled": false
   },
   "outputs": [
    {
     "name": "stdout",
     "output_type": "stream",
     "text": [
      "[[194.85707541 669.05965417]\n",
      " [196.3064708  664.18861684]\n",
      " [193.74862401 668.26185364]\n",
      " ...\n",
      " [495.24632533 486.43626382]\n",
      " [505.14555861 481.64815865]\n",
      " [529.70012903 503.65581345]]\n"
     ]
    },
    {
     "data": {
      "image/png": "[encoded data removed]",
      "text/plain": [
       "<Figure size 1080x1080 with 1 Axes>"
      ]
     },
     "metadata": {
      "needs_background": "light"
     },
     "output_type": "display_data"
    }
   ],
   "source": [
    "# TEST 完整噪声生成\n",
    "    # 产生所有的聚类，以及其属性，包括shape rad eps\n",
    "def ALL():\n",
    "    TEST_r = np.array([])\n",
    "    TEST_miu = np.array([])\n",
    "    TEST_shape = np.array([])\n",
    "    TEST_rad = np.array([])\n",
    "    TEST_eps = np.array([])\n",
    "    for i in range(c):\n",
    "        while 1:\n",
    "            TEST_r_new , TEST_miu_new = ClusterPlacement(r_k = TEST_r, miu_k = TEST_miu)\n",
    "            if TEST_r_new != -1:\n",
    "                break\n",
    "        TEST_r = np.append(TEST_r , TEST_r_new)\n",
    "        TEST_miu = np.append(TEST_miu , TEST_miu_new)\n",
    "        TEST_miu = TEST_miu.reshape(int(len(TEST_miu)/d),d)\n",
    "        TEST_shape = np.append(TEST_shape, np.random.randint(-1,2))\n",
    "        TEST_rad = np.append(TEST_rad, np.random.random(d) * TEST_r_new)\n",
    "        TEST_rad = TEST_rad.reshape(int(len(TEST_rad)/d),d)\n",
    "        TEST_eps = 0.01 * TEST_r_new\n",
    "#     # 为其中一个聚类产撒点\n",
    "#     TEST_clusterpoints = ClusterPointsGeneration(\n",
    "#         n_j=100, \n",
    "#         r_j=TEST_r[0], miu_j=TEST_miu[0],\n",
    "#         shape=TEST_shape[0],\n",
    "#         rad_i=TEST_rad[0],\n",
    "#         alpha=0.03\n",
    "#     )\n",
    "    # 为每个聚类撒点\n",
    "    TEST_clusterpoints = np.array([])\n",
    "    for i in range(c):\n",
    "        TEST_clusterpoints = np.append(TEST_clusterpoints,ClusterPointsGeneration(\n",
    "            n_j=int(n/c), # NOT SURE 暂定均分 \n",
    "            r_j=TEST_r[i], miu_j=TEST_miu[i],\n",
    "            shape=TEST_shape[i],\n",
    "            rad_i=TEST_rad[i],\n",
    "            alpha=0.03\n",
    "        ))\n",
    "    TEST_clusterpoints = TEST_clusterpoints.reshape(int(len(TEST_clusterpoints)/d),d)\n",
    "    # 加噪点\n",
    "    noisepoints = NoisePointsGeneration(n=n,yita=yita ,miu_k=TEST_miu, r_k=TEST_r, eps_k=TEST_eps, m=m, radi_k=TEST_rad, shape_k=TEST_shape)\n",
    "    # 画图\n",
    "    fig=plt.figure(figsize=(15,15))\n",
    "    ax = fig.add_subplot(111, aspect='auto')\n",
    "    plt.axis([0,m,0,m])\n",
    "\n",
    "    plt.scatter([i[0] for i in TEST_miu],[i[1] for i in TEST_miu],c='r')\n",
    "    print(TEST_clusterpoints)\n",
    "    plt.scatter([i[0] for i in TEST_clusterpoints],[i[1] for i in TEST_clusterpoints],c='r')\n",
    "    plt.scatter([i[0] for i in noisepoints],[i[1] for i in noisepoints],c='r',marker='x')\n",
    "\n",
    "    for i in range(c):\n",
    "        ax.add_patch(mpatches.Rectangle(TEST_miu[i]-TEST_r[i], TEST_r[i]*2,TEST_r[i]*2, color = 'b', alpha=0.5))    \n",
    "ALL()"
   ]
  }
 ],
 "metadata": {
  "kernelspec": {
   "display_name": "Python 3",
   "language": "python",
   "name": "python3"
  },
  "language_info": {
   "codemirror_mode": {
    "name": "ipython",
    "version": 3
   },
   "file_extension": ".py",
   "mimetype": "text/x-python",
   "name": "python",
   "nbconvert_exporter": "python",
   "pygments_lexer": "ipython3",
   "version": "3.7.0"
  },
  "toc": {
   "base_numbering": 1,
   "nav_menu": {},
   "number_sections": true,
   "sideBar": true,
   "skip_h1_title": false,
   "title_cell": "Table of Contents",
   "title_sidebar": "Contents",
   "toc_cell": false,
   "toc_position": {},
   "toc_section_display": true,
   "toc_window_display": false
  }
 },
 "nbformat": 4,
 "nbformat_minor": 2
}
