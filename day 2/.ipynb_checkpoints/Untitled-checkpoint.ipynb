{
 "cells": [
  {
   "cell_type": "code",
   "execution_count": 1,
   "metadata": {},
   "outputs": [
    {
     "name": "stderr",
     "output_type": "stream",
     "text": [
      "C:\\Users\\BaTS\\AppData\\Local\\Continuum\\anaconda3\\lib\\site-packages\\ipykernel\\parentpoller.py:116: UserWarning: Parent poll failed.  If the frontend dies,\n",
      "                the kernel may be left running.  Please let us know\n",
      "                about your system (bitness, Python, etc.) at\n",
      "                ipython-dev@scipy.org\n",
      "  ipython-dev@scipy.org\"\"\")\n"
     ]
    }
   ],
   "source": [
    "import numpy as np\n",
    "import matplotlib.pyplot as plt\n",
    "import matplotlib.patches as mpatches"
   ]
  },
  {
   "cell_type": "markdown",
   "metadata": {},
   "source": [
    "SynDECA - A Tool to Generate Synthetic Datasets for Evaluation of Cluster Algorithm\n",
    "- 摘要：  \n",
    "    聚类算法有很多，而需要数据集来和评估之。本算法自动生成[有生命力的]数据集，评估聚类算法的准确性、抗噪性。  \n",
    "- 问题描述：  \n",
    "    给定-数据集大小n，维度d，范围[0 , m]，聚类个数c，噪声比例η  \n",
    "    输出-随机产生的数据集。\n",
    "- 步骤：  \n",
    "    1.确定聚类中心，包括大小边缘  \n",
    "    2.聚类和噪声大小估计  \n",
    "    3.填聚类  \n",
    "    4.撒噪声  "
   ]
  },
  {
   "cell_type": "code",
   "execution_count": 2,
   "metadata": {},
   "outputs": [],
   "source": [
    "# Input ( as global para \n",
    "n = 10000 # total number\n",
    "d = 2 # dimension\n",
    "m = 1000 # max value in each dimension\n",
    "c = 10 # cluster number \n",
    "yita = 0.05 # noise-points/cluster-points"
   ]
  },
  {
   "cell_type": "markdown",
   "metadata": {},
   "source": [
    "# steps\n",
    "一些内部变量：\n",
    "\n",
    "$\\epsilon$ - 聚类间的最小距离比。任意两个聚类之间的距离不能小于$(1+\\epsilon)r$，where r is the radius of a cluster   \n",
    "$r_{max} , r_{min} $ - 聚类最大/最小半径  \n",
    "P.S. 噪点数量$\\in (0, \\frac{1}{1+c}*n] $ (????"
   ]
  },
  {
   "cell_type": "code",
   "execution_count": 3,
   "metadata": {},
   "outputs": [],
   "source": [
    "# Input (cont.\n",
    "epsilon = 0.5\n",
    "r_min = 20\n",
    "r_max = 100"
   ]
  },
  {
   "cell_type": "markdown",
   "metadata": {},
   "source": [
    "## step 1 定聚类位置及半径\n",
    "意思大概是，先随机产生中心和半径，放着。冲突就减小，直到没冲突了就安排。\n",
    "### gapIsEnough"
   ]
  },
  {
   "cell_type": "code",
   "execution_count": 4,
   "metadata": {
    "code_folding": []
   },
   "outputs": [],
   "source": [
    "def gapIsEnough(r_i, miu_i, r_j, miu_j):\n",
    "    def distance(p1,p2):# p1 p2 are 2 points, array type.\n",
    "        #return np.linalg.norm(p1-p2,'inf') # NOT SURE \n",
    "        return max(p1-p2) #这个目前还没跑通过一次\n",
    "\n",
    "    d = distance(miu_i,miu_j)\n",
    "    return  (d > r_i + r_j) and (d > r_i *(1 + epsilon)) and (d > r_j *(1 + epsilon)) # NOT SURE"
   ]
  },
  {
   "cell_type": "markdown",
   "metadata": {},
   "source": [
    "### ClusterPlacement\n",
    "（事实上复杂度很高）"
   ]
  },
  {
   "cell_type": "code",
   "execution_count": 5,
   "metadata": {},
   "outputs": [],
   "source": [
    "def reduce(r_i):\n",
    "    return r_i - 0.1*r_min # NOT SURE\n",
    "    # 太快直接低于r_min 会重来，太慢收敛慢\n",
    "def ClusterPlacement(r_k, miu_k): # miu_k , r_k are miu and r set, respectively\n",
    "    r_i = np.random.random() * (r_max - r_min) + r_min # in [r_min,r_max]\n",
    "    miu_i = np.random.random(d) * (m - 2 * r_i) + r_i # d-dimension array\n",
    "#     print(r_i,miu_i)\n",
    "    if len(r_k)==0:\n",
    "        return r_i,miu_i\n",
    "    else:\n",
    "        for miu_j, r_j in [(miu_k[i], r_k[i]) for i in range(len(r_k))]: # 迭代没错\n",
    "            while not gapIsEnough(r_i, miu_i, r_j, miu_j) :\n",
    "                r_i = reduce(r_i)\n",
    "                if r_i < r_min:\n",
    "                    return -1,-1\n",
    "        return r_i , miu_i \n",
    "     \n",
    "test_r_i ,test_miu_i = ClusterPlacement(np.array([]),np.array([]))"
   ]
  },
  {
   "cell_type": "code",
   "execution_count": 6,
   "metadata": {
    "scrolled": true
   },
   "outputs": [
    {
     "name": "stdout",
     "output_type": "stream",
     "text": [
      "第0个聚类\n",
      "找成功\n",
      "当前聚类池：\n",
      "(array([[286.68384636, 711.1530962 ]]), array([78.69295171]))\n",
      "第1个聚类\n",
      "找成功\n",
      "当前聚类池：\n",
      "(array([[286.68384636, 711.1530962 ],\n",
      "       [849.91046551, 619.74646153]]), array([78.69295171, 75.22387137]))\n",
      "第2个聚类\n",
      "找成功\n",
      "当前聚类池：\n",
      "(array([[286.68384636, 711.1530962 ],\n",
      "       [849.91046551, 619.74646153],\n",
      "       [173.78167307, 942.78270505]]), array([78.69295171, 75.22387137, 45.59405472]))\n",
      "第3个聚类\n",
      "找成功\n",
      "当前聚类池：\n",
      "(array([[286.68384636, 711.1530962 ],\n",
      "       [849.91046551, 619.74646153],\n",
      "       [173.78167307, 942.78270505],\n",
      "       [854.07512493, 836.61246497]]), array([78.69295171, 75.22387137, 45.59405472, 40.53625932]))\n",
      "第4个聚类\n",
      "找成功\n",
      "当前聚类池：\n",
      "(array([[286.68384636, 711.1530962 ],\n",
      "       [849.91046551, 619.74646153],\n",
      "       [173.78167307, 942.78270505],\n",
      "       [854.07512493, 836.61246497],\n",
      "       [262.02681307, 904.36518139]]), array([78.69295171, 75.22387137, 45.59405472, 40.53625932, 25.75553222]))\n",
      "第5个聚类\n",
      "找成功\n",
      "当前聚类池：\n",
      "(array([[286.68384636, 711.1530962 ],\n",
      "       [849.91046551, 619.74646153],\n",
      "       [173.78167307, 942.78270505],\n",
      "       [854.07512493, 836.61246497],\n",
      "       [262.02681307, 904.36518139],\n",
      "       [321.49357103, 911.83502759]]), array([78.69295171, 75.22387137, 45.59405472, 40.53625932, 25.75553222,\n",
      "       32.80649427]))\n",
      "第6个聚类\n",
      "找成功\n",
      "当前聚类池：\n",
      "(array([[286.68384636, 711.1530962 ],\n",
      "       [849.91046551, 619.74646153],\n",
      "       [173.78167307, 942.78270505],\n",
      "       [854.07512493, 836.61246497],\n",
      "       [262.02681307, 904.36518139],\n",
      "       [321.49357103, 911.83502759],\n",
      "       [644.54656672, 936.29457234]]), array([78.69295171, 75.22387137, 45.59405472, 40.53625932, 25.75553222,\n",
      "       32.80649427, 45.91564667]))\n",
      "第7个聚类\n",
      "找成功\n",
      "当前聚类池：\n",
      "(array([[286.68384636, 711.1530962 ],\n",
      "       [849.91046551, 619.74646153],\n",
      "       [173.78167307, 942.78270505],\n",
      "       [854.07512493, 836.61246497],\n",
      "       [262.02681307, 904.36518139],\n",
      "       [321.49357103, 911.83502759],\n",
      "       [644.54656672, 936.29457234],\n",
      "       [852.40336659, 907.16906067]]), array([78.69295171, 75.22387137, 45.59405472, 40.53625932, 25.75553222,\n",
      "       32.80649427, 45.91564667, 29.55926398]))\n",
      "第8个聚类\n",
      "找成功\n",
      "当前聚类池：\n",
      "(array([[286.68384636, 711.1530962 ],\n",
      "       [849.91046551, 619.74646153],\n",
      "       [173.78167307, 942.78270505],\n",
      "       [854.07512493, 836.61246497],\n",
      "       [262.02681307, 904.36518139],\n",
      "       [321.49357103, 911.83502759],\n",
      "       [644.54656672, 936.29457234],\n",
      "       [852.40336659, 907.16906067],\n",
      "       [963.72028296, 576.37081599]]), array([78.69295171, 75.22387137, 45.59405472, 40.53625932, 25.75553222,\n",
      "       32.80649427, 45.91564667, 29.55926398, 24.39938256]))\n"
     ]
    }
   ],
   "source": [
    "# TEST 聚类中心及半径\n",
    "TEST_r = np.array([])\n",
    "TEST_miu = np.array([])\n",
    "TEST_counter = 0\n",
    "for i in range(c):\n",
    "    print(\"第\"+str(i)+\"个聚类\")\n",
    "    while 1:\n",
    "        TEST_r_new , TEST_miu_new = ClusterPlacement(r_k = TEST_r, miu_k = TEST_miu)\n",
    "        if TEST_r_new != -1:\n",
    "            print(\"找成功\")\n",
    "            break\n",
    "#         print(\"小于r_min了，找失败\")\n",
    "    TEST_r = np.append(TEST_r , TEST_r_new)\n",
    "    TEST_miu = np.append(TEST_miu , TEST_miu_new)\n",
    "    TEST_miu = TEST_miu.reshape(int(len(TEST_miu)/d),d)\n",
    "    print(\"当前聚类池：\")\n",
    "    print((TEST_miu,TEST_r))\n",
    "    \n",
    "    TEST_counter+=1\n",
    "    if TEST_counter==c-1:\n",
    "        break\n",
    "\n",
    "# 到7的时候爆炸概率很高了    \n"
   ]
  },
  {
   "cell_type": "code",
   "execution_count": 7,
   "metadata": {},
   "outputs": [
    {
     "data": {
      "image/png": "[encoded data removed]",
      "text/plain": [
       "<Figure size 432x288 with 1 Axes>"
      ]
     },
     "metadata": {
      "needs_background": "light"
     },
     "output_type": "display_data"
    }
   ],
   "source": [
    "fig=plt.figure()\n",
    "ax = fig.add_subplot(111, aspect='auto')\n",
    "\n",
    "p1 = plt.scatter([i[0] for i in TEST_miu],[i[1] for i in TEST_miu],c='r')\n",
    "plt.axis([0,m,0,m])\n",
    "for i in range(c-1):\n",
    "#     ax.add_patch(mpatches.Circle(TEST_miu[i], TEST_r[i], color = 'b', alpha=0.5))\n",
    "    ax.add_patch(mpatches.Rectangle(TEST_miu[i]-TEST_r[i], TEST_r[i]*2,TEST_r[i]*2, color = 'b', alpha=0.5))\n",
    "    "
   ]
  },
  {
   "cell_type": "markdown",
   "metadata": {},
   "source": [
    "## step 2 撒点\n",
    "n Number  \n",
    "miu_j Center  \n",
    "r_j Shape  \n",
    "Xj   \n",
    "shape = [-1,0,1,2] # Irregular, Circle, Square, Ellipse, Rectangle,  \n",
    "\n",
    "### generate_point"
   ]
  },
  {
   "cell_type": "code",
   "execution_count": null,
   "metadata": {
    "code_folding": [
     0
    ]
   },
   "outputs": [],
   "source": [
    "def generate_point(miu_i, r_i):\n",
    "    return ( 2*np.random.random(d) -1 )* r_i + miu_i \n",
    "generate_point(miu_i=test_miu_i,r_i=test_r_i)"
   ]
  },
  {
   "cell_type": "markdown",
   "metadata": {},
   "source": [
    "### sprinkle_point"
   ]
  },
  {
   "cell_type": "code",
   "execution_count": null,
   "metadata": {
    "code_folding": [
     0
    ]
   },
   "outputs": [],
   "source": [
    "def sprinkle_point(p, eps, min_pts): # sprinkle surrounding the point p\n",
    "    # reverse DB-SCAN\n",
    "    points = np.array([])\n",
    "    for i in range(min_pts):\n",
    "        # NOT SURE: \"around\" here means \"within the bounding box\". \n",
    "        points = np.append(points,generate_point(p, eps)) # note that np.array + array means matrix plus\n",
    "    return points.reshape(min_pts,2)\n",
    "# sprinkle_point(p=test_miu_i, eps=0.01, min_pts=10)"
   ]
  },
  {
   "cell_type": "markdown",
   "metadata": {},
   "source": [
    "### get_a_point"
   ]
  },
  {
   "cell_type": "code",
   "execution_count": null,
   "metadata": {
    "code_folding": [
     0
    ]
   },
   "outputs": [],
   "source": [
    "def get_a_point(p, eps, eps_):\n",
    "    # randomly generate a point with distance of q_, where eps < q_ < eps + eps_ \n",
    "    while True:\n",
    "        p_ = generate_point(miu_i=p, r_i=eps+eps_)\n",
    "        if np.linalg.norm(p_-p,2) > eps and np.linalg.norm(p_-p,2) < eps+eps_ :\n",
    "            break\n",
    "    return p_\n",
    "get_a_point(test_miu_i, eps=0.001, eps_=0.002)"
   ]
  },
  {
   "cell_type": "markdown",
   "metadata": {},
   "source": [
    "### is_within_cluster_area"
   ]
  },
  {
   "cell_type": "code",
   "execution_count": null,
   "metadata": {
    "code_folding": []
   },
   "outputs": [],
   "source": [
    "def is_within_cluster_area(shape, point, miu_i, r_i, rad_i):\n",
    "    if shape == 0: # Rectangle. Rad_i = half length in every demension \n",
    "        return (abs(point - miu_i)/rad_i < 1 ).all() \n",
    "    if shape == 1: # Ellipse. Rad_i = half length in every demension\n",
    "        return sum((point-miu_i)**2/rad_i)<1"
   ]
  },
  {
   "cell_type": "markdown",
   "metadata": {},
   "source": [
    "### ClusterPointsGeneration"
   ]
  },
  {
   "cell_type": "code",
   "execution_count": null,
   "metadata": {
    "code_folding": [
     0
    ]
   },
   "outputs": [],
   "source": [
    "def ClusterPointsGeneration(n_j, r_j, miu_j, shape, rad_i, alpha): # generate n_j points surrounding the cluster center miu_j\n",
    "    points=np.array([])\n",
    "    if shape == -1 : #irregular\n",
    "        eps=0.02*r_j\n",
    "        eps_=0.05*r_j\n",
    "        # initial point p\n",
    "        p = generate_point(r_i=r_j, miu_i=miu_j )\n",
    "        min_pts = int(alpha * n_j)\n",
    "        points = sprinkle_point(p=p, eps=eps, min_pts=min_pts)\n",
    "        # iteration p_\n",
    "        debuggerCounter=0\n",
    "        while len(points) < n_j:\n",
    "            p_ = get_a_point(p,eps,eps_)\n",
    "            points = np.vstack([points, sprinkle_point(p=p_, eps=eps_, min_pts=min_pts)])\n",
    "            p=p_\n",
    "            eps = eps_ #NOT SURE\n",
    "    else:\n",
    "        while len(points) < n_j:\n",
    "            p = generate_point(r_i=r_j, miu_i=miu_j )\n",
    "            if is_within_cluster_area(shape=shape, point=p, miu_i=miu_j, r_i=r_j, rad_i=rad_i):\n",
    "                if len(points)==0:\n",
    "                    points = p\n",
    "                else:\n",
    "                    points = np.vstack([p,points])\n",
    "    return points\n",
    "# Test\n",
    "# points = ClusterPointsGeneration(n_j=100, r_j=test_r_i, miu_j=test_miu_i, shape=-1,rad_i=[150,260], alpha=0.03)\n",
    "points = ClusterPointsGeneration(n_j=100, r_j=test_r_i, miu_j=test_miu_i, shape=0,rad_i=[150,260], alpha=0.03)\n",
    "# points = ClusterPointsGeneration(n_j=100, r_j=test_r_i, miu_j=test_miu_i, shape=1,rad_i=[150,260], alpha=0.03)"
   ]
  },
  {
   "cell_type": "code",
   "execution_count": null,
   "metadata": {},
   "outputs": [],
   "source": [
    "plt.scatter(test_miu_i[0],test_miu_i[1],c='r')\n",
    "plt.scatter([i[0] for i in points],[i[1] for i in points])"
   ]
  },
  {
   "cell_type": "markdown",
   "metadata": {},
   "source": [
    "## step 3\n",
    "不在任何一个聚类内\n",
    "\n",
    "给定：\n",
    "yita ，噪点比  \n",
    "n 总数  \n",
    "(miu_k, f_k) miu_k - 聚类中心。f_k 包括半径r_k, shape_k, rad_ik, eps_k **之前的信息需要保留**  \n",
    "m 范围  \n"
   ]
  },
  {
   "cell_type": "code",
   "execution_count": null,
   "metadata": {
    "code_folding": []
   },
   "outputs": [],
   "source": [
    "def make_a_noise_point(miu_k, r_k, shape_k, radi_k, eps_k, m)\n",
    "    point = np.random.random(d) * m # make a random point \n",
    "    if [ point - miu_k[i] > r_k[i] for i in range(n)].all(): # out of every bounding\n",
    "        if len(points)==0:\n",
    "            noise_points = point \n",
    "        else:\n",
    "            noise_points = np.vstack([point,noise_points])\n",
    "    else: # in bound but out of cluster\n",
    "        if [is_within_cluster_area(shape=shape[i],miu_i=miu_k[i],point=point,r_i=r_k[i],rad_i=radi_k[i]) for i in range(n)].any():\n",
    "                \n",
    "\n",
    "def NoisePointsGeneration(yita, n, miu_k, r_k, shape_k, radi_k, eps_k, m):\n",
    "    noise_points = np.array([])\n",
    "    while len(noise_points)< n*yita:\n",
    "        point = np.random.random(d) * m # make a random point \n",
    "        if [ point - miu_k[i] > r_k[i] for i in range(n)].all(): # out of every bounding\n",
    "            if len(points)==0:\n",
    "                noise_points = point \n",
    "            else:\n",
    "                noise_points = np.vstack([point,noise_points])\n",
    "        else: # in bound but out of cluster\n",
    "            [is_within_cluster_area(shape=shape[i],miu_i=miu_k[i],point=point,r_i=r_k[i],) for i in range(n)].all()\n",
    "    return noise_points\n"
   ]
  },
  {
   "cell_type": "markdown",
   "metadata": {},
   "source": [
    "## 总\n",
    "并把参数全部写一遍"
   ]
  },
  {
   "cell_type": "code",
   "execution_count": null,
   "metadata": {},
   "outputs": [],
   "source": [
    "n = 1000 # total number\n",
    "d = 2 # dimension\n",
    "m = 1000 # max value in each dimension\n",
    "c = 10 # cluster number \n",
    "yita = 0.05 # noise-points/cluster-points\n",
    "\n",
    "epsilon = 1\n",
    "r_min = 100\n",
    "r_max = 500"
   ]
  },
  {
   "cell_type": "code",
   "execution_count": null,
   "metadata": {},
   "outputs": [],
   "source": [
    "# step1\n",
    "r = np.array([])\n",
    "miu = np.array([])\n",
    "\n",
    "for i in range(c):\n",
    "    while 1:\n",
    "        r_new,miu_new = ClusterPlacement(r_k = r, miu_k = miu)\n",
    "        if r_new != -1:\n",
    "            break\n",
    "    r = np.append(r , r_new)\n",
    "    miu = np.append(miu , miu_new)\n",
    "    miu = miu.reshape(int(len(miu)/d),d)\n",
    "\n",
    "(r,miu)"
   ]
  },
  {
   "cell_type": "code",
   "execution_count": null,
   "metadata": {},
   "outputs": [],
   "source": [
    "# step2\n",
    "n_j=n/c # equally divided\n",
    "rad = np.array([ np.random.random(d)*r[i] for i in range(c)])\n",
    "alpha = np.array([0.03 for i in range(n)])\n",
    "shape = np.array([1 for i in range(n)])\n",
    "points = ClusterPointsGeneration(n_j=n_j, r_j=r[0], miu_j=miu[0], shape=1,rad_i=rad[0], alpha=0.03)"
   ]
  },
  {
   "cell_type": "code",
   "execution_count": null,
   "metadata": {},
   "outputs": [],
   "source": [
    "for i in range(1,c):\n",
    "    points = np.vstack([\n",
    "        points , ClusterPointsGeneration(n_j=n_j, r_j=r[i], miu_j=miu[i], shape=shape[i],rad_i=rad[i], alpha=0.03)\n",
    "   ])"
   ]
  },
  {
   "cell_type": "code",
   "execution_count": null,
   "metadata": {},
   "outputs": [],
   "source": [
    "points"
   ]
  },
  {
   "cell_type": "code",
   "execution_count": null,
   "metadata": {
    "scrolled": true
   },
   "outputs": [],
   "source": [
    "plt.figure(figsize=(20,20))\n",
    "plt.scatter([i[0] for i in points],[i[1] for i in points],s=1)\n",
    "for i in miu:\n",
    "    plt.scatter(i[0],i[1],c='r')\n"
   ]
  },
  {
   "cell_type": "code",
   "execution_count": null,
   "metadata": {},
   "outputs": [],
   "source": []
  }
 ],
 "metadata": {
  "kernelspec": {
   "display_name": "Python 3",
   "language": "python",
   "name": "python3"
  },
  "language_info": {
   "codemirror_mode": {
    "name": "ipython",
    "version": 3
   },
   "file_extension": ".py",
   "mimetype": "text/x-python",
   "name": "python",
   "nbconvert_exporter": "python",
   "pygments_lexer": "ipython3",
   "version": "3.7.0"
  },
  "toc": {
   "base_numbering": 1,
   "nav_menu": {},
   "number_sections": true,
   "sideBar": true,
   "skip_h1_title": false,
   "title_cell": "Table of Contents",
   "title_sidebar": "Contents",
   "toc_cell": false,
   "toc_position": {},
   "toc_section_display": true,
   "toc_window_display": false
  }
 },
 "nbformat": 4,
 "nbformat_minor": 2
}
