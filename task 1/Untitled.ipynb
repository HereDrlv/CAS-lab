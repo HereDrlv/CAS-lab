{
 "cells": [
  {
   "cell_type": "markdown",
   "metadata": {},
   "source": [
    "一个文件中\n",
    "driverTime = processTime + ___\n",
    "\n",
    "有两组，取平均。"
   ]
  },
  {
   "cell_type": "code",
   "execution_count": 26,
   "metadata": {},
   "outputs": [],
   "source": [
    "import matplotlib.pyplot as plt\n",
    "import numpy as np\n",
    "# import pandas as pd"
   ]
  },
  {
   "cell_type": "code",
   "execution_count": 44,
   "metadata": {},
   "outputs": [
    {
     "data": {
      "text/plain": [
       "'ga'"
      ]
     },
     "execution_count": 44,
     "metadata": {},
     "output_type": "execute_result"
    }
   ],
   "source": [
    "testStr = 'abcdefga'\n",
    "testStr[testStr.find('g',1):]"
   ]
  },
  {
   "cell_type": "code",
   "execution_count": 103,
   "metadata": {
    "scrolled": false
   },
   "outputs": [
    {
     "data": {
      "text/plain": [
       "(array([663376.5, 331563. , 182545. ,  93122. ,  61606.5,  46398.5]),\n",
       " array([330312.5, 164934. ,  91164. ,  45819.5,  30264.5,  21790.5]))"
      ]
     },
     "execution_count": 103,
     "metadata": {},
     "output_type": "execute_result"
    }
   ],
   "source": [
    "# Read data\n",
    "def readDataFile(number):\n",
    "    dataStr = open('C:/Users/BaTS/Desktop/CAS lab/res/res/Clustream-Qtimes1-KDDNine'+str(number)+'-0120-15000-20','r',encoding='UTF-8').read()\n",
    "    # encoding='UTF-8' cannot be omitted\n",
    "    processTime_locator = '\\nProcessTime: ------------'\n",
    "    processTime_1_from = dataStr.find(processTime_locator) + len(processTime_locator)\n",
    "    processTime_1_to = dataStr.find('ms', processTime_1_from)\n",
    "    processTime1 = int( dataStr[ processTime_1_from : processTime_1_to ] )\n",
    "\n",
    "    driverTime_locator = '\\nDriverTime: ------------'\n",
    "    driverTime_1_from = dataStr.find(driverTime_locator) + len(driverTime_locator)\n",
    "    driverTime_1_to = dataStr.find('ms', driverTime_1_from)\n",
    "    driverTime1 = float( dataStr[ driverTime_1_from : driverTime_1_to ] )\n",
    "\n",
    "    processTime_2_from = dataStr.find(processTime_locator, processTime_1_to) + len(processTime_locator)\n",
    "    processTime_2_to = dataStr.find('ms', processTime_2_from)\n",
    "    processTime2 = float( dataStr[ processTime_2_from : processTime_2_to ] )\n",
    "    processTime = (processTime1 + processTime2)/2\n",
    "\n",
    "    driverTime_2_from = dataStr.find(driverTime_locator,driverTime_1_to ) + len(driverTime_locator)\n",
    "    driverTime_2_to = dataStr.find('ms', driverTime_2_from)\n",
    "    driverTime2 = float( dataStr[ driverTime_2_from : driverTime_2_to ] )\n",
    "    driverTime = (driverTime1 + driverTime2)/2\n",
    "    return processTime,driverTime\n",
    "\n",
    "\n",
    "processTime =np.array([])\n",
    "driverTime =np.array([])\n",
    "for i in range(6):\n",
    "    p ,d = readDataFile(2**i)\n",
    "    processTime = np.append(processTime,p)\n",
    "    driverTime = np.append(driverTime,d)\n",
    "#     driverTime.insert(d)\n",
    "processTime,driverTime"
   ]
  },
  {
   "cell_type": "code",
   "execution_count": 120,
   "metadata": {},
   "outputs": [
    {
     "data": {
      "text/plain": [
       "<matplotlib.legend.Legend at 0x291870cd8d0>"
      ]
     },
     "execution_count": 120,
     "metadata": {},
     "output_type": "execute_result"
    },
    {
     "data": {
      "image/png": "[encoded data removed]",
      "text/plain": [
       "<Figure size 432x288 with 1 Axes>"
      ]
     },
     "metadata": {
      "needs_background": "light"
     },
     "output_type": "display_data"
    }
   ],
   "source": [
    "# graph\n",
    "\n",
    "# x-axis ranges:\n",
    "X = range(1,7)\n",
    "# data is :\n",
    "# processTime []\n",
    "# driverTime []\n",
    "transTime = processTime - driverTime \n",
    "\n",
    "# stacked bar\n",
    "width = 0.35\n",
    "p1 = plt.bar(X, driverTime, width)\n",
    "p2 = plt.bar(X, transTime, width, bottom=driverTime)\n",
    "# line\n",
    "\n",
    "plt.plot(X,processTime,color='k')\n",
    "plt.plot(X,driverTime,color='k')\n",
    "plt.xticks(X, ('1', '2', '4', '8', '16','32'))\n",
    "plt.legend((p1[0],p2[0]),('xxxxxTime','driverTime'))"
   ]
  }
 ],
 "metadata": {
  "kernelspec": {
   "display_name": "Python 3",
   "language": "python",
   "name": "python3"
  },
  "language_info": {
   "codemirror_mode": {
    "name": "ipython",
    "version": 3
   },
   "file_extension": ".py",
   "mimetype": "text/x-python",
   "name": "python",
   "nbconvert_exporter": "python",
   "pygments_lexer": "ipython3",
   "version": "3.7.0"
  },
  "toc": {
   "base_numbering": 1,
   "nav_menu": {},
   "number_sections": true,
   "sideBar": true,
   "skip_h1_title": false,
   "title_cell": "Table of Contents",
   "title_sidebar": "Contents",
   "toc_cell": false,
   "toc_position": {},
   "toc_section_display": true,
   "toc_window_display": false
  }
 },
 "nbformat": 4,
 "nbformat_minor": 2
}
